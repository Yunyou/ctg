{
 "cells": [
  {
   "cell_type": "code",
   "execution_count": 1,
   "metadata": {},
   "outputs": [
    {
     "data": {
      "text/plain": [
       "<module 'dual_crispr_screen' from '/cellar/users/bpmunson/crappy/src/dual_crispr_screen.py'>"
      ]
     },
     "execution_count": 1,
     "metadata": {},
     "output_type": "execute_result"
    }
   ],
   "source": [
    "import numpy as np\n",
    "import pandas as pd\n",
    "import dual_crispr_screen\n",
    "import imp\n",
    "imp.reload(dual_crispr_screen)"
   ]
  },
  {
   "cell_type": "code",
   "execution_count": 2,
   "metadata": {},
   "outputs": [],
   "source": [
    "%load_ext rpy2.ipython"
   ]
  },
  {
   "cell_type": "markdown",
   "metadata": {},
   "source": [
    "# Test Set"
   ]
  },
  {
   "cell_type": "code",
   "execution_count": 3,
   "metadata": {},
   "outputs": [
    {
     "name": "stderr",
     "output_type": "stream",
     "text": [
      "/cellar/users/bpmunson/crappy/src/fit_ac_fc.py:234: RuntimeWarning: invalid value encountered in true_divide\n",
      "  fc = np.divide(f.sum(axis=0), var_time.sum(axis=0))\n",
      "/cellar/users/bpmunson/crappy/src/fit_ac_fc.py:260: RuntimeWarning: invalid value encountered in true_divide\n",
      "  sdfc = np.divide(num, denom).data\n"
     ]
    },
    {
     "name": "stdout",
     "output_type": "stream",
     "text": [
      "Iter\tRMS\tRelative Error\n",
      "1\t0.0227\t0.058415\n",
      "2\t0.0219\t0.030430\n",
      "3\t0.0215\t0.016396\n",
      "4\t0.0213\t0.009132\n",
      "5\t0.0211\t0.005257\n",
      "6\t0.0211\t0.003128\n",
      "7\t0.0210\t0.001920\n",
      "8\t0.0210\t0.001211\n",
      "9\t0.0210\t0.000783\n",
      "Performing iteration: 1\n",
      "Iter\tRMS\tRelative Error\n",
      "1\t0.0014\t0.084903\n",
      "2\t0.0010\t0.008124\n",
      "3\t0.0009\t0.000827\n",
      "Performing iteration: 2\n",
      "Iter\tRMS\tRelative Error\n",
      "1\t0.0013\t0.083478\n",
      "2\t0.0010\t0.008159\n",
      "3\t0.0009\t0.000923\n"
     ]
    },
    {
     "name": "stderr",
     "output_type": "stream",
     "text": [
      "/cellar/users/bpmunson/crappy/src/bootstrap_pi.py:274: RuntimeWarning: divide by zero encountered in true_divide\n",
      "  fdr_right = np.minimum(1, enull(-pi_mean)/(1-emean(pi_mean)))\n"
     ]
    },
    {
     "data": {
      "text/html": [
       "<div>\n",
       "<style scoped>\n",
       "    .dataframe tbody tr th:only-of-type {\n",
       "        vertical-align: middle;\n",
       "    }\n",
       "\n",
       "    .dataframe tbody tr th {\n",
       "        vertical-align: top;\n",
       "    }\n",
       "\n",
       "    .dataframe thead th {\n",
       "        text-align: right;\n",
       "    }\n",
       "</style>\n",
       "<table border=\"1\" class=\"dataframe\">\n",
       "  <thead>\n",
       "    <tr style=\"text-align: right;\">\n",
       "      <th></th>\n",
       "      <th>geneA</th>\n",
       "      <th>geneB</th>\n",
       "      <th>pi_mean</th>\n",
       "      <th>fdr_left</th>\n",
       "      <th>fdr_right</th>\n",
       "      <th>sd</th>\n",
       "      <th>z</th>\n",
       "      <th>pp</th>\n",
       "      <th>fA</th>\n",
       "      <th>fB</th>\n",
       "    </tr>\n",
       "  </thead>\n",
       "  <tbody>\n",
       "    <tr>\n",
       "      <th>0</th>\n",
       "      <td>0</td>\n",
       "      <td>ABL1</td>\n",
       "      <td>-0.016598</td>\n",
       "      <td>0.520198</td>\n",
       "      <td>1.0</td>\n",
       "      <td>0.025642</td>\n",
       "      <td>-0.646978</td>\n",
       "      <td>0.0</td>\n",
       "      <td>-0.000108</td>\n",
       "      <td>0.000593</td>\n",
       "    </tr>\n",
       "    <tr>\n",
       "      <th>1</th>\n",
       "      <td>0</td>\n",
       "      <td>ADA</td>\n",
       "      <td>0.016067</td>\n",
       "      <td>0.936011</td>\n",
       "      <td>1.0</td>\n",
       "      <td>0.022820</td>\n",
       "      <td>0.626272</td>\n",
       "      <td>0.0</td>\n",
       "      <td>-0.000108</td>\n",
       "      <td>0.001239</td>\n",
       "    </tr>\n",
       "    <tr>\n",
       "      <th>2</th>\n",
       "      <td>0</td>\n",
       "      <td>AKT1</td>\n",
       "      <td>-0.014196</td>\n",
       "      <td>0.555413</td>\n",
       "      <td>1.0</td>\n",
       "      <td>0.023174</td>\n",
       "      <td>-0.553338</td>\n",
       "      <td>0.0</td>\n",
       "      <td>-0.000108</td>\n",
       "      <td>0.000690</td>\n",
       "    </tr>\n",
       "    <tr>\n",
       "      <th>3</th>\n",
       "      <td>0</td>\n",
       "      <td>ALK</td>\n",
       "      <td>-0.001825</td>\n",
       "      <td>0.699625</td>\n",
       "      <td>1.0</td>\n",
       "      <td>0.005062</td>\n",
       "      <td>-0.071121</td>\n",
       "      <td>0.0</td>\n",
       "      <td>-0.000108</td>\n",
       "      <td>0.000725</td>\n",
       "    </tr>\n",
       "    <tr>\n",
       "      <th>4</th>\n",
       "      <td>0</td>\n",
       "      <td>APC</td>\n",
       "      <td>-0.029941</td>\n",
       "      <td>0.432203</td>\n",
       "      <td>1.0</td>\n",
       "      <td>0.044673</td>\n",
       "      <td>-1.167065</td>\n",
       "      <td>0.0</td>\n",
       "      <td>-0.000108</td>\n",
       "      <td>0.000575</td>\n",
       "    </tr>\n",
       "  </tbody>\n",
       "</table>\n",
       "</div>"
      ],
      "text/plain": [
       "  geneA geneB   pi_mean  fdr_left  fdr_right        sd         z   pp  \\\n",
       "0     0  ABL1 -0.016598  0.520198        1.0  0.025642 -0.646978  0.0   \n",
       "1     0   ADA  0.016067  0.936011        1.0  0.022820  0.626272  0.0   \n",
       "2     0  AKT1 -0.014196  0.555413        1.0  0.023174 -0.553338  0.0   \n",
       "3     0   ALK -0.001825  0.699625        1.0  0.005062 -0.071121  0.0   \n",
       "4     0   APC -0.029941  0.432203        1.0  0.044673 -1.167065  0.0   \n",
       "\n",
       "         fA        fB  \n",
       "0 -0.000108  0.000593  \n",
       "1 -0.000108  0.001239  \n",
       "2 -0.000108  0.000690  \n",
       "3 -0.000108  0.000725  \n",
       "4 -0.000108  0.000575  "
      ]
     },
     "execution_count": 3,
     "metadata": {},
     "output_type": "execute_result"
    }
   ],
   "source": [
    "abundance_file = \"/cellar/users/bpmunson/crappy/data/test_data/input_data/TestSet8/TestSet8_abundance_thresholds.txt\"\n",
    "counts_file = \"/cellar/users/bpmunson/crappy/data/test_data/input_data/TestSet8/TestSet8_timepoint_counts.txt\"\n",
    "times = np.array([21,28])\n",
    "\n",
    "# initialize screen object\n",
    "screen = dual_crispr_screen.Screen(abundance_file, counts_file, times)\n",
    "\n",
    "# set some parameters\n",
    "# number of iterations to perform\n",
    "screen.options.niter = 2\n",
    "screen.options.testing = True\n",
    "screen.options.null_target_id = '0'\n",
    "screen.options.verbose = True\n",
    "\n",
    "# perform construct fitness calculation\n",
    "screen.run_construct_fitting()\n",
    "\n",
    "# run bootstraps\n",
    "screen.run_bootstrap()\n",
    "\n",
    "# summarize results \n",
    "screen.summarize()\n",
    "\n",
    "# view results \n",
    "screen.results.head()"
   ]
  },
  {
   "cell_type": "code",
   "execution_count": 4,
   "metadata": {},
   "outputs": [],
   "source": [
    "### Compare to CTG benchmark pi scores"
   ]
  },
  {
   "cell_type": "code",
   "execution_count": 5,
   "metadata": {},
   "outputs": [
    {
     "name": "stdout",
     "output_type": "stream",
     "text": [
      "All pi-scores close:\n"
     ]
    },
    {
     "data": {
      "text/plain": [
       "True"
      ]
     },
     "execution_count": 5,
     "metadata": {},
     "output_type": "execute_result"
    }
   ],
   "source": [
    "benchmark = \"/cellar/users/bpmunson/crappy/data/test_data/output_data/Notebook8Test_pi.txt\"\n",
    "benchmark = pd.read_csv(benchmark, sep=\"\\t\", header=0)\n",
    "benchmark_pi_mean = benchmark[['geneA','geneB','pi']]\n",
    "benchmark_pi_mean = benchmark_pi_mean.sort_values(['geneA','geneB']).reset_index(drop=True)\n",
    "\n",
    "#pi_scores_mean = screen.results.mean(axis=1).reset_index()\n",
    "pi_scores_mean = screen.results[['geneA','geneB','pi_mean']]\n",
    "\n",
    "comb = pd.merge(pi_scores_mean, benchmark_pi_mean, on=['geneA','geneB'])\n",
    "\n",
    "print('All pi-scores close:')\n",
    "np.allclose(comb['pi_mean'],comb['pi'], atol=1e-6, equal_nan=True)"
   ]
  },
  {
   "cell_type": "code",
   "execution_count": 6,
   "metadata": {},
   "outputs": [
    {
     "name": "stderr",
     "output_type": "stream",
     "text": [
      "/cellar/users/bpmunson/Desktop/dual_cripsr/miniconda3/lib/python3.5/site-packages/rpy2/rinterface/__init__.py:145: RRuntimeWarning: Loading required package: ggplot2\n",
      "\n",
      "  warnings.warn(x, RRuntimeWarning)\n",
      "/cellar/users/bpmunson/Desktop/dual_cripsr/miniconda3/lib/python3.5/site-packages/rpy2/rinterface/__init__.py:145: RRuntimeWarning: Loading required package: cowplot\n",
      "\n",
      "  warnings.warn(x, RRuntimeWarning)\n",
      "/cellar/users/bpmunson/Desktop/dual_cripsr/miniconda3/lib/python3.5/site-packages/rpy2/rinterface/__init__.py:145: RRuntimeWarning: \n",
      "Attaching package: ‘cowplot’\n",
      "\n",
      "\n",
      "  warnings.warn(x, RRuntimeWarning)\n",
      "/cellar/users/bpmunson/Desktop/dual_cripsr/miniconda3/lib/python3.5/site-packages/rpy2/rinterface/__init__.py:145: RRuntimeWarning: The following object is masked from ‘package:ggplot2’:\n",
      "\n",
      "    ggsave\n",
      "\n",
      "\n",
      "  warnings.warn(x, RRuntimeWarning)\n"
     ]
    },
    {
     "data": {
      "image/png": "[encoded data removed]"
     },
     "metadata": {},
     "output_type": "display_data"
    }
   ],
   "source": [
    "%%R -i comb\n",
    "jointPlot <- function(df, alpha=0.1, title=NULL, correlation=FALSE){\n",
    "    \n",
    "    # make a joint plot from the data frame of two columns first one is on x axis\n",
    "    require(ggplot2)\n",
    "    require(cowplot)\n",
    "    # get info\n",
    "    x_l = colnames(df)[1]\n",
    "    y_l = colnames(df)[2]\n",
    "    coord_min = min(na.omit(df))\n",
    "    coord_max = max(na.omit(df))\n",
    "    # make scatter plot\n",
    "    scatter = ggplot(df, aes_string(x=x_l,y=y_l))+ # init grob\n",
    "        geom_point(shape=1, alpha=alpha, size=4)+ # add points\n",
    "        geom_abline(slope=1,intercept=0,color=\"red\",linetype=\"dotted\")+ # add perfect 1:1 line\n",
    "        theme_bw(base_size=18)+ # use preset theme\n",
    "        xlim(coord_min,coord_max)+ylim(coord_min,coord_max)+ # make square plot\n",
    "        labs(x=x_l,y=y_l) # add axis labels\n",
    "    # add correlation info to scatter plot\n",
    "    if (correlation){\n",
    "        # get correaltion\n",
    "        res = cor.test(df[,x_l], df[,y_l])\n",
    "        p_value = res$p.value\n",
    "        corr = res$estimate\n",
    "        # add annotation\n",
    "        scatter = scatter + annotate(\"text\",\n",
    "                                     hjust=0,\n",
    "                                     label=paste(\"Corr: \", format(round(corr, 4), nsmall=3),\n",
    "                                                 sep=\"\"),\n",
    "                                     x=coord_min,y=coord_max)\n",
    "        scatter = scatter + geom_smooth(se=FALSE, method=\"lm\")\n",
    "    }\n",
    "\n",
    "    # add title to scatter plot\n",
    "    if (!is.null(title)){\n",
    "        scatter = scatter + labs(title=title)\n",
    "    }\n",
    "\n",
    "    xdens = axis_canvas(scatter, axis=\"x\")+\n",
    "                geom_histogram(data=df, aes_string(x=x_l), color=\"black\",fill=\"white\",bins=50)\n",
    "\n",
    "    ydens = axis_canvas(scatter, axis=\"y\", coord_flip=TRUE)+\n",
    "                geom_histogram(data=df, aes_string(x=y_l), color=\"black\",fill=\"white\",bins=50)+\n",
    "                coord_flip()\n",
    "\n",
    "    p1 <- insert_xaxis_grob(scatter, xdens, grid::unit(.2,'null'),position=\"top\")\n",
    "    p2 <- insert_yaxis_grob(p1, ydens, grid::unit(.2,'null'),position=\"right\")\n",
    "    ggdraw(p2)\n",
    "    \n",
    "}\n",
    "df = comb[,c('pi_mean','pi')]\n",
    "colnames(df) = c('CrAPPY', 'CTG')\n",
    "jointPlot(df, title=\"Test Set 8 Pi Scores\", correlation=TRUE)\n"
   ]
  },
  {
   "cell_type": "markdown",
   "metadata": {},
   "source": [
    "# A549"
   ]
  },
  {
   "cell_type": "code",
   "execution_count": 7,
   "metadata": {},
   "outputs": [
    {
     "name": "stderr",
     "output_type": "stream",
     "text": [
      "/cellar/users/bpmunson/crappy/src/fit_ac_fc.py:234: RuntimeWarning: invalid value encountered in true_divide\n",
      "  fc = np.divide(f.sum(axis=0), var_time.sum(axis=0))\n",
      "/cellar/users/bpmunson/crappy/src/fit_ac_fc.py:260: RuntimeWarning: invalid value encountered in true_divide\n",
      "  sdfc = np.divide(num, denom).data\n",
      "/cellar/users/bpmunson/crappy/src/bootstrap_pi.py:274: RuntimeWarning: divide by zero encountered in true_divide\n",
      "  fdr_right = np.minimum(1, enull(-pi_mean)/(1-emean(pi_mean)))\n"
     ]
    },
    {
     "data": {
      "text/html": [
       "<div>\n",
       "<style scoped>\n",
       "    .dataframe tbody tr th:only-of-type {\n",
       "        vertical-align: middle;\n",
       "    }\n",
       "\n",
       "    .dataframe tbody tr th {\n",
       "        vertical-align: top;\n",
       "    }\n",
       "\n",
       "    .dataframe thead th {\n",
       "        text-align: right;\n",
       "    }\n",
       "</style>\n",
       "<table border=\"1\" class=\"dataframe\">\n",
       "  <thead>\n",
       "    <tr style=\"text-align: right;\">\n",
       "      <th></th>\n",
       "      <th>geneA</th>\n",
       "      <th>geneB</th>\n",
       "      <th>pi_mean</th>\n",
       "      <th>fdr_left</th>\n",
       "      <th>fdr_right</th>\n",
       "      <th>sd</th>\n",
       "      <th>z</th>\n",
       "      <th>pp</th>\n",
       "      <th>fA</th>\n",
       "      <th>fB</th>\n",
       "    </tr>\n",
       "  </thead>\n",
       "  <tbody>\n",
       "    <tr>\n",
       "      <th>0</th>\n",
       "      <td>0</td>\n",
       "      <td>ABL1</td>\n",
       "      <td>0.017416</td>\n",
       "      <td>0.967137</td>\n",
       "      <td>1.0</td>\n",
       "      <td>0.034492</td>\n",
       "      <td>0.464299</td>\n",
       "      <td>0.0</td>\n",
       "      <td>0.000638</td>\n",
       "      <td>-0.006316</td>\n",
       "    </tr>\n",
       "    <tr>\n",
       "      <th>1</th>\n",
       "      <td>0</td>\n",
       "      <td>ADA</td>\n",
       "      <td>0.025304</td>\n",
       "      <td>0.986148</td>\n",
       "      <td>1.0</td>\n",
       "      <td>0.004497</td>\n",
       "      <td>0.674601</td>\n",
       "      <td>1.0</td>\n",
       "      <td>0.000638</td>\n",
       "      <td>-0.011855</td>\n",
       "    </tr>\n",
       "    <tr>\n",
       "      <th>2</th>\n",
       "      <td>0</td>\n",
       "      <td>AKT1</td>\n",
       "      <td>-0.012813</td>\n",
       "      <td>0.489447</td>\n",
       "      <td>1.0</td>\n",
       "      <td>0.062700</td>\n",
       "      <td>-0.341575</td>\n",
       "      <td>0.0</td>\n",
       "      <td>0.000638</td>\n",
       "      <td>-0.016670</td>\n",
       "    </tr>\n",
       "    <tr>\n",
       "      <th>3</th>\n",
       "      <td>0</td>\n",
       "      <td>ALK</td>\n",
       "      <td>-0.025686</td>\n",
       "      <td>0.298739</td>\n",
       "      <td>1.0</td>\n",
       "      <td>0.007086</td>\n",
       "      <td>-0.684771</td>\n",
       "      <td>1.0</td>\n",
       "      <td>0.000638</td>\n",
       "      <td>-0.013212</td>\n",
       "    </tr>\n",
       "    <tr>\n",
       "      <th>4</th>\n",
       "      <td>0</td>\n",
       "      <td>APC</td>\n",
       "      <td>-0.010781</td>\n",
       "      <td>0.530946</td>\n",
       "      <td>1.0</td>\n",
       "      <td>0.005286</td>\n",
       "      <td>-0.287416</td>\n",
       "      <td>1.0</td>\n",
       "      <td>0.000638</td>\n",
       "      <td>-0.002747</td>\n",
       "    </tr>\n",
       "  </tbody>\n",
       "</table>\n",
       "</div>"
      ],
      "text/plain": [
       "  geneA geneB   pi_mean  fdr_left  fdr_right        sd         z   pp  \\\n",
       "0     0  ABL1  0.017416  0.967137        1.0  0.034492  0.464299  0.0   \n",
       "1     0   ADA  0.025304  0.986148        1.0  0.004497  0.674601  1.0   \n",
       "2     0  AKT1 -0.012813  0.489447        1.0  0.062700 -0.341575  0.0   \n",
       "3     0   ALK -0.025686  0.298739        1.0  0.007086 -0.684771  1.0   \n",
       "4     0   APC -0.010781  0.530946        1.0  0.005286 -0.287416  1.0   \n",
       "\n",
       "         fA        fB  \n",
       "0  0.000638 -0.006316  \n",
       "1  0.000638 -0.011855  \n",
       "2  0.000638 -0.016670  \n",
       "3  0.000638 -0.013212  \n",
       "4  0.000638 -0.002747  "
      ]
     },
     "execution_count": 7,
     "metadata": {},
     "output_type": "execute_result"
    }
   ],
   "source": [
    "abundance_file = \"/cellar/users/bpmunson/crappy/data/test_data/input_data/A549/A549_abundance_thresholds.txt\"\n",
    "counts_file = \"/cellar/users/bpmunson/crappy/data/test_data/input_data/A549/A549_timepoint_counts.txt\"\n",
    "times = np.array([3,14,21,28])\n",
    "\n",
    "# initialize screen object\n",
    "screen = dual_crispr_screen.Screen(abundance_file, counts_file, times)\n",
    "\n",
    "# set some parameters\n",
    "# number of iterations to perform\n",
    "screen.options.niter = 2\n",
    "screen.options.null_target_id = '0'\n",
    "screen.options.verbose = True\n",
    "\n",
    "# perform construct fitness calculation\n",
    "screen.run_construct_fitting()\n",
    "\n",
    "# run bootstraps\n",
    "screen.run_bootstrap()\n",
    "\n",
    "# summarize results \n",
    "screen.summarize()\n",
    "\n",
    "# view results \n",
    "screen.results.head()"
   ]
  },
  {
   "cell_type": "code",
   "execution_count": null,
   "metadata": {},
   "outputs": [],
   "source": []
  }
 ],
 "metadata": {
  "kernelspec": {
   "display_name": "Python 3",
   "language": "python",
   "name": "python3"
  },
  "language_info": {
   "codemirror_mode": {
    "name": "ipython",
    "version": 3
   },
   "file_extension": ".py",
   "mimetype": "text/x-python",
   "name": "python",
   "nbconvert_exporter": "python",
   "pygments_lexer": "ipython3",
   "version": "3.5.4"
  }
 },
 "nbformat": 4,
 "nbformat_minor": 2
}
