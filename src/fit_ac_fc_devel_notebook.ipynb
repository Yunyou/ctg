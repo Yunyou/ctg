{
 "cells": [
  {
   "cell_type": "markdown",
   "metadata": {},
   "source": [
    "Note: This is only a **temporary** notebook that is used for development purposes. "
   ]
  },
  {
   "cell_type": "code",
   "execution_count": 1,
   "metadata": {
    "collapsed": true
   },
   "outputs": [],
   "source": [
    "%load_ext autoreload\n",
    "%autoreload 2\n",
    "\n",
    "\n",
    "import os\n",
    "import sys\n",
    "import numpy as np\n",
    "import pandas as pd\n",
    "\n",
    "from numpy.matlib import repmat\n",
    "\n",
    "from config import config\n",
    "import fit_ac_fc as f"
   ]
  },
  {
   "cell_type": "code",
   "execution_count": null,
   "metadata": {
    "collapsed": true
   },
   "outputs": [],
   "source": [
    "ab = f.load_abundance_thresholds(os.path.join(config.A549_test, \\\n",
    "        \"A549_abundance_thresholds.txt\"))\n",
    "tps = f.load_timepoint_counts(os.path.join(config.A549_test, \\\n",
    "        \"A549_timepoint_counts.txt\"))"
   ]
  },
  {
   "cell_type": "code",
   "execution_count": null,
   "metadata": {
    "collapsed": true
   },
   "outputs": [],
   "source": [
    "_tps, names = f.convert_timepoint_counts(tps)\n",
    "_abundance = f.convert_abundance_thresholds(ab)"
   ]
  },
  {
   "cell_type": "code",
   "execution_count": null,
   "metadata": {
    "collapsed": true
   },
   "outputs": [],
   "source": [
    "# For testing only\n",
    "\n",
    "_tps = _tps.iloc[:100,:]\n",
    "_abundance = _abundance.iloc[:100,:]"
   ]
  },
  {
   "cell_type": "code",
   "execution_count": null,
   "metadata": {
    "collapsed": true
   },
   "outputs": [],
   "source": [
    "tp_tmp = np.array([_tps[1].as_matrix(), _tps[2].as_matrix()])"
   ]
  },
  {
   "cell_type": "code",
   "execution_count": null,
   "metadata": {
    "collapsed": true
   },
   "outputs": [],
   "source": [
    "ab_tmp = np.array([_abundance[1].as_matrix(), _abundance[2].as_matrix()])"
   ]
  },
  {
   "cell_type": "code",
   "execution_count": null,
   "metadata": {},
   "outputs": [],
   "source": [
    "bad.shape"
   ]
  },
  {
   "cell_type": "code",
   "execution_count": null,
   "metadata": {},
   "outputs": [],
   "source": [
    "tp_tmp.shape"
   ]
  },
  {
   "cell_type": "code",
   "execution_count": null,
   "metadata": {
    "collapsed": true
   },
   "outputs": [],
   "source": [
    "times = np.array([[3, 14, 21, 28], [3,14,21,28]])\n",
    "#times = np.transpose(times[...,np.newaxis], axes=[0,2,1])"
   ]
  },
  {
   "cell_type": "code",
   "execution_count": null,
   "metadata": {},
   "outputs": [],
   "source": [
    "times.shape"
   ]
  },
  {
   "cell_type": "code",
   "execution_count": null,
   "metadata": {},
   "outputs": [],
   "source": [
    "repmat(times, 100, 1).reshape((2,100,4))"
   ]
  },
  {
   "cell_type": "code",
   "execution_count": null,
   "metadata": {
    "collapsed": true
   },
   "outputs": [],
   "source": []
  },
  {
   "cell_type": "code",
   "execution_count": null,
   "metadata": {},
   "outputs": [],
   "source": [
    "times.shape"
   ]
  },
  {
   "cell_type": "code",
   "execution_count": null,
   "metadata": {},
   "outputs": [],
   "source": [
    "tp_tmp.shape"
   ]
  },
  {
   "cell_type": "markdown",
   "metadata": {},
   "source": [
    "# fit_ac_fc function"
   ]
  },
  {
   "cell_type": "code",
   "execution_count": null,
   "metadata": {
    "collapsed": true
   },
   "outputs": [],
   "source": [
    "def create_mask(counts, abundance, n_good=2): \n",
    "    pass_mask = pd.DataFrame(counts.values > abundance.values, columns=counts.columns)\n",
    "    mask = pass_mask.groupby(level=0, axis=1).apply(lambda x: x.sum(axis=1) >= n_good)\n",
    "    \n",
    "    return mask \n",
    "\n",
    "def masked_cov(x,y): \n",
    "    term1 = np.ma.mean(np.ma.multiply(x,y), axis=1)\n",
    "    term2 = np.multiply(np.ma.mean(x, axis=1), np.ma.mean(y, axis=1))\n",
    "    \n",
    "    return term1 - term2"
   ]
  },
  {
   "cell_type": "code",
   "execution_count": null,
   "metadata": {
    "collapsed": true
   },
   "outputs": [],
   "source": [
    "def fit_ac_fc_np(counts, abundance, times, n_good=2):\n",
    "    #TODO: parse times\n",
    "    \n",
    "    mx_s, mt_s, v_s, f_s = [], [], [], []\n",
    "    for count, ab in zip(counts, abundance): \n",
    "        mask = create_mask(count, ab, n_good=n_good)\n",
    "        \n",
    "        count_ma = np.ma.masked_array(count, mask=~mask)\n",
    "        time_ma  = np.ma.masked_array(repmat(times, count.shape[0], 1), mask=~mask)\n",
    "        \n",
    "        mx = count_ma.mean(axis=1)\n",
    "        mt = time_ma.mean(axis=1)\n",
    "        v  = time_ma.var(axis=1)\n",
    "        f = masked_cov(count_ma, time_ma)\n",
    "        \n",
    "        mx_s.append(mx)\n",
    "        mt_s.append(mt)\n",
    "        v_s.append(v_s)\n",
    "        f_s.append(f)\n",
    "        \n",
    "    f_sum = np.zeros(counts[0].shape[0],)\n",
    "    v_sum = np.zeros(counts[0].shape[0],)\n",
    "    for f, v in zip(f_s, v_s): \n",
    "        f_sum = np.add(f_sum, f)\n",
    "        v_sum = np.add(v_sum, v)\n",
    "        \n",
    "    fc = np.divide(f_sum, v_sum)\n",
    "    \n",
    "    ac_s = []\n",
    "    for mx, mt in zip(mx, mt): \n",
    "        ac = mx - np.multiply(fc, mt)\n",
    "        ac_s.append(ac)"
   ]
  },
  {
   "cell_type": "code",
   "execution_count": null,
   "metadata": {
    "collapsed": true,
    "scrolled": true
   },
   "outputs": [],
   "source": [
    "%time fit_ac_fc_np([_tps[1], _tps[2]], [_abundance[1], _abundance[2]], np.array([3, 14, 21, 28]))"
   ]
  },
  {
   "cell_type": "code",
   "execution_count": null,
   "metadata": {
    "collapsed": true
   },
   "outputs": [],
   "source": [
    "a = np.arange(0,10)"
   ]
  },
  {
   "cell_type": "code",
   "execution_count": null,
   "metadata": {},
   "outputs": [],
   "source": [
    "np.power(2,a)"
   ]
  },
  {
   "cell_type": "code",
   "execution_count": null,
   "metadata": {
    "collapsed": true
   },
   "outputs": [],
   "source": []
  },
  {
   "cell_type": "code",
   "execution_count": null,
   "metadata": {},
   "outputs": [],
   "source": [
    "np.__version__"
   ]
  },
  {
   "cell_type": "code",
   "execution_count": null,
   "metadata": {
    "collapsed": true
   },
   "outputs": [],
   "source": [
    "_data = _tps[1].values\n",
    "_ab = _abundance[1].values"
   ]
  },
  {
   "cell_type": "code",
   "execution_count": null,
   "metadata": {
    "scrolled": true
   },
   "outputs": [],
   "source": [
    "_data > _ab"
   ]
  },
  {
   "cell_type": "code",
   "execution_count": null,
   "metadata": {
    "collapsed": true
   },
   "outputs": [],
   "source": []
  },
  {
   "cell_type": "code",
   "execution_count": null,
   "metadata": {
    "collapsed": true
   },
   "outputs": [],
   "source": [
    "data_masked = np.ma.masked_array(_data, mask=_data < _ab)\n",
    "times_masked = np.ma.masked_array(repmat(times, data.shape[0], 1), mask=data_masked.mask)"
   ]
  },
  {
   "cell_type": "code",
   "execution_count": null,
   "metadata": {
    "collapsed": true
   },
   "outputs": [],
   "source": [
    "mx = data_masked.mean(axis=1)\n",
    "mt = times_masked.mean(axis=1)\n",
    "v  = times_masked.var(axis=1)\n",
    "f = masked_cov(data_masked, times_masked)"
   ]
  },
  {
   "cell_type": "code",
   "execution_count": null,
   "metadata": {
    "collapsed": true
   },
   "outputs": [],
   "source": []
  },
  {
   "cell_type": "code",
   "execution_count": null,
   "metadata": {
    "collapsed": true
   },
   "outputs": [],
   "source": [
    "def fit_ac_fc(counts, abundance, n_good=2): \n",
    "    #Consider doing this in pure numpy \n",
    "    \n",
    "    assert (counts.columns == abundance.columns).all()\n",
    "    \n",
    "    return create_mask(counts, abundance, n_good=n_good)\n",
    "\n",
    "    # aggregate mask for \"allbad\"\n",
    "    \n",
    "    \n",
    "    #return pass_mask"
   ]
  },
  {
   "cell_type": "code",
   "execution_count": null,
   "metadata": {
    "collapsed": true
   },
   "outputs": [],
   "source": []
  },
  {
   "cell_type": "code",
   "execution_count": null,
   "metadata": {
    "collapsed": true
   },
   "outputs": [],
   "source": []
  },
  {
   "cell_type": "code",
   "execution_count": null,
   "metadata": {
    "collapsed": true
   },
   "outputs": [],
   "source": []
  },
  {
   "cell_type": "markdown",
   "metadata": {},
   "source": [
    "# Debug"
   ]
  },
  {
   "cell_type": "code",
   "execution_count": 36,
   "metadata": {},
   "outputs": [],
   "source": [
    "from config import config\n",
    "from fit_ac_fc import *\n",
    "from fit_ac_fc import _cov\n",
    "\n",
    "ab = load_abundance_thresholds(os.path.join(config.A549_test, \\\n",
    "        \"A549_abundance_thresholds.txt\"))\n",
    "tps = load_timepoint_counts(os.path.join(config.A549_test, \\\n",
    "        \"A549_timepoint_counts.txt\"))\n",
    "\n",
    "_tps, names = convert_timepoint_counts(tps)\n",
    "_abundance = convert_abundance_thresholds(ab)\n",
    "\n",
    "#For Testing only\n",
    "#_tps = _tps.iloc[:100,:]\n",
    "#_abundance = _abundance.iloc[:100,:]\n",
    "\n",
    "\n",
    "times = np.array([[3, 14, 21, 28], [3,14,21,28]])\n",
    "#times = np.transpose(times[...,np.newaxis], axes=[0,2,1])\n",
    "times = repmat(times, _tps.shape[0], 1).reshape((times.shape[0],_tps.shape[0],times.shape[1]))\n",
    "\n",
    "# fit_ac_fc_np(np.array([_tps[1].as_matrix(), _tps[2].as_matrix()]),\n",
    "#              np.array([_abundance[1].as_matrix(), _abundance[2].as_matrix()]),\n",
    "#              times)\n",
    "\n",
    "counts = np.array([_tps[1].as_matrix(), _tps[2].as_matrix()])\n",
    "ab = np.array([_abundance[1].as_matrix(), _abundance[2].as_matrix()])\n",
    "times = times\n",
    "n_good=2"
   ]
  },
  {
   "cell_type": "code",
   "execution_count": 40,
   "metadata": {},
   "outputs": [],
   "source": [
    "bad = (counts > ab).sum(axis=2) < n_good\n",
    "allbad = bad.all(axis=0)\n",
    "\n",
    "counts_masked = np.ma.array(data=counts, mask=~(counts > ab))\n",
    "time_masked = np.ma.array(data=times, mask=~(counts > ab))\n",
    "\n",
    "mean_counts = np.ma.mean(counts_masked, axis=2).data\n",
    "mean_time = np.ma.mean(time_masked, axis=2).data\n",
    "var_time = np.ma.var(time_masked,axis=2).data\n",
    "f = _cov(counts_masked, time_masked, axis=2).data\n",
    "\n",
    "#fc = np.divide(f.sum(axis=0), var_time.sum(axis=0))\n",
    "#fc[allbad] = 0\n",
    "\n",
    "#ac = mean_counts - (fc*mean_time)\n",
    "#ac[bad] = counts[bad,0]"
   ]
  },
  {
   "cell_type": "code",
   "execution_count": 44,
   "metadata": {},
   "outputs": [
    {
     "data": {
      "text/plain": [
       "(2, 24908)"
      ]
     },
     "execution_count": 44,
     "metadata": {},
     "output_type": "execute_result"
    }
   ],
   "source": [
    "bad.shape"
   ]
  },
  {
   "cell_type": "code",
   "execution_count": 34,
   "metadata": {},
   "outputs": [
    {
     "data": {
      "text/plain": [
       "array([ 154.18218623])"
      ]
     },
     "execution_count": 34,
     "metadata": {},
     "output_type": "execute_result"
    }
   ],
   "source": [
    "ac[bad]"
   ]
  },
  {
   "cell_type": "code",
   "execution_count": 45,
   "metadata": {},
   "outputs": [
    {
     "name": "stderr",
     "output_type": "stream",
     "text": [
      "/Users/Work/bin/anaconda3/lib/python3.6/site-packages/ipykernel_launcher.py:12: RuntimeWarning: invalid value encountered in true_divide\n",
      "  if sys.path[0] == '':\n",
      "/Users/Work/bin/anaconda3/lib/python3.6/site-packages/ipykernel_launcher.py:18: RuntimeWarning: overflow encountered in power\n",
      "/Users/Work/bin/anaconda3/lib/python3.6/site-packages/ipykernel_launcher.py:21: RuntimeWarning: divide by zero encountered in log2\n",
      "/Users/Work/bin/anaconda3/lib/python3.6/site-packages/ipykernel_launcher.py:22: RuntimeWarning: invalid value encountered in add\n",
      "/Users/Work/bin/anaconda3/lib/python3.6/site-packages/ipykernel_launcher.py:28: RuntimeWarning: invalid value encountered in true_divide\n"
     ]
    }
   ],
   "source": [
    "bad = (counts > ab).sum(axis=2) < n_good\n",
    "allbad = bad.all(axis=0)\n",
    "\n",
    "counts_masked = np.ma.array(data=counts, mask=~(counts > ab))\n",
    "time_masked = np.ma.array(data=times, mask=~(counts > ab))\n",
    "\n",
    "mean_counts = np.ma.mean(counts_masked, axis=2).data\n",
    "mean_time = np.ma.mean(time_masked, axis=2).data\n",
    "var_time = np.ma.var(time_masked,axis=2).data\n",
    "f = _cov(counts_masked, time_masked, axis=2).data\n",
    "\n",
    "fc = np.divide(f.sum(axis=0), var_time.sum(axis=0))\n",
    "fc[allbad] = 0\n",
    "\n",
    "ac = mean_counts - (fc*mean_time)\n",
    "ac[bad] = counts[bad,0]\n",
    "\n",
    "alpha = -np.log2(np.power(2,ac).sum(axis=1))[...,np.newaxis]\n",
    "ac = ac + alpha\n",
    "\n",
    "lmbda = -np.log2(np.power(2, ac[...,np.newaxis] + fc[np.newaxis,...,np.newaxis]*times).sum(axis=1))\n",
    "xfit = ac[...,np.newaxis] + fc[np.newaxis,...,np.newaxis]*times + lmbda[...,np.newaxis].transpose(0,2,1)\n",
    "\n",
    "df = (counts > ab).sum(axis=2).sum(axis=0) - 2\n",
    "numerator = np.sqrt(np.power(xfit - counts_masked, 2).sum(axis=2).sum(axis=0))\n",
    "denominator = np.sqrt(np.power(time_masked - time_masked.mean(axis=2)[...,np.newaxis], 2).sum(axis=2).sum(axis=0))\n",
    "\n",
    "sdfc = np.divide(numerator,denominator)\n",
    "\n",
    "df_masked = np.ma.array(data=df, mask=~(df > 0))\n",
    "\n",
    "tstat_masked = np.ma.divide(fc, np.ma.divide(sdfc, np.ma.sqrt(df_masked)))\n",
    "tstat_masked.data[tstat_masked.mask] = 1\n",
    "\n",
    "tstat = tstat_masked.data\n",
    "p_t = np.array([2*t.cdf(i,j) if j > 0 else 1 for i,j in zip(tstat, df)])"
   ]
  },
  {
   "cell_type": "code",
   "execution_count": 46,
   "metadata": {},
   "outputs": [
    {
     "data": {
      "text/plain": [
       "array([ 1.57735027,  1.64408232,  1.64408232, ...,  1.63678253,\n",
       "        1.64408232,  1.        ])"
      ]
     },
     "execution_count": 46,
     "metadata": {},
     "output_type": "execute_result"
    }
   ],
   "source": [
    "p_t"
   ]
  },
  {
   "cell_type": "code",
   "execution_count": null,
   "metadata": {
    "collapsed": true
   },
   "outputs": [],
   "source": []
  }
 ],
 "metadata": {
  "kernelspec": {
   "display_name": "Python 3",
   "language": "python",
   "name": "python3"
  },
  "language_info": {
   "codemirror_mode": {
    "name": "ipython",
    "version": 3
   },
   "file_extension": ".py",
   "mimetype": "text/x-python",
   "name": "python",
   "nbconvert_exporter": "python",
   "pygments_lexer": "ipython3",
   "version": "3.6.3"
  }
 },
 "nbformat": 4,
 "nbformat_minor": 2
}
