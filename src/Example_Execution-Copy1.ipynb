{
 "cells": [
  {
   "cell_type": "code",
   "execution_count": 1,
   "metadata": {},
   "outputs": [],
   "source": [
    "%load_ext autoreload \n",
    "%autoreload 2"
   ]
  },
  {
   "cell_type": "code",
   "execution_count": 2,
   "metadata": {},
   "outputs": [],
   "source": [
    "%load_ext rpy2.ipython"
   ]
  },
  {
   "cell_type": "code",
   "execution_count": 3,
   "metadata": {
    "scrolled": true
   },
   "outputs": [
    {
     "data": {
      "text/plain": [
       "<module 'dual_crispr_screen' from '/cellar/users/samsonfong/crappy/src/dual_crispr_screen.py'>"
      ]
     },
     "execution_count": 3,
     "metadata": {},
     "output_type": "execute_result"
    }
   ],
   "source": [
    "import os\n",
    "import numpy as np\n",
    "import pandas as pd\n",
    "import dual_crispr_screen\n",
    "import imp\n",
    "imp.reload(dual_crispr_screen)\n",
    "\n"
   ]
  },
  {
   "cell_type": "code",
   "execution_count": 4,
   "metadata": {},
   "outputs": [],
   "source": [
    "# Global parameters\n",
    "\n",
    "BASE = os.path.realpath('../')\n",
    "TEST_SET = os.path.join(BASE, 'data', 'test_data','input_data', 'TestSet8')"
   ]
  },
  {
   "cell_type": "markdown",
   "metadata": {},
   "source": [
    "# Test Set"
   ]
  },
  {
   "cell_type": "code",
   "execution_count": 5,
   "metadata": {},
   "outputs": [
    {
     "name": "stdout",
     "output_type": "stream",
     "text": [
      "hi\n",
      "               log2CountsThresh\n",
      "sampleName                     \n",
      "A549CV4_T21_1             4.525\n",
      "A549CV4_T21_2             4.325\n",
      "A549CV4_T28_1             3.925\n",
      "A549CV4_T28_2             3.475\n",
      "[[[-18.4583628  -19.32780328]]\n",
      "\n",
      " [[-18.66790896 -19.97675167]]]\n"
     ]
    },
    {
     "name": "stderr",
     "output_type": "stream",
     "text": [
      "/cellar/users/samsonfong/crappy/src/fit_ac_fc.py:257: RuntimeWarning: invalid value encountered in true_divide\n",
      "  fc = np.divide(f.sum(axis=0), var_time.sum(axis=0))\n",
      "/cellar/users/samsonfong/crappy/src/fit_ac_fc.py:283: RuntimeWarning: invalid value encountered in true_divide\n",
      "  sdfc = np.divide(num, denom).data\n"
     ]
    },
    {
     "name": "stdout",
     "output_type": "stream",
     "text": [
      "Iter\tRMS\tRelative Error\n",
      "1\t0.0227\t0.058415\n",
      "2\t0.0219\t0.030430\n",
      "3\t0.0215\t0.016396\n",
      "4\t0.0213\t0.009132\n",
      "5\t0.0211\t0.005257\n",
      "6\t0.0211\t0.003128\n",
      "7\t0.0210\t0.001920\n",
      "8\t0.0210\t0.001211\n",
      "9\t0.0210\t0.000783\n",
      "Performing iteration: 1\n",
      "Iter\tRMS\tRelative Error\n",
      "1\t0.0014\t0.084903\n",
      "2\t0.0010\t0.008124\n",
      "3\t0.0009\t0.000827\n",
      "Performing iteration: 2\n",
      "Iter\tRMS\tRelative Error\n",
      "1\t0.0013\t0.083478\n",
      "2\t0.0010\t0.008159\n",
      "3\t0.0009\t0.000923\n"
     ]
    },
    {
     "name": "stderr",
     "output_type": "stream",
     "text": [
      "/cellar/users/samsonfong/crappy/src/bootstrap_pi.py:274: RuntimeWarning: divide by zero encountered in true_divide\n",
      "  fdr_right = np.minimum(1, enull(-pi_mean)/(1-emean(pi_mean)))\n"
     ]
    },
    {
     "data": {
      "text/html": [
       "<div>\n",
       "<style scoped>\n",
       "    .dataframe tbody tr th:only-of-type {\n",
       "        vertical-align: middle;\n",
       "    }\n",
       "\n",
       "    .dataframe tbody tr th {\n",
       "        vertical-align: top;\n",
       "    }\n",
       "\n",
       "    .dataframe thead th {\n",
       "        text-align: right;\n",
       "    }\n",
       "</style>\n",
       "<table border=\"1\" class=\"dataframe\">\n",
       "  <thead>\n",
       "    <tr style=\"text-align: right;\">\n",
       "      <th></th>\n",
       "      <th>geneA</th>\n",
       "      <th>geneB</th>\n",
       "      <th>pi_mean</th>\n",
       "      <th>fdr_left</th>\n",
       "      <th>fdr_right</th>\n",
       "      <th>sd</th>\n",
       "      <th>z</th>\n",
       "      <th>pp</th>\n",
       "      <th>fA</th>\n",
       "      <th>fB</th>\n",
       "    </tr>\n",
       "  </thead>\n",
       "  <tbody>\n",
       "    <tr>\n",
       "      <th>0</th>\n",
       "      <td>0</td>\n",
       "      <td>ABL1</td>\n",
       "      <td>-0.016598</td>\n",
       "      <td>0.520198</td>\n",
       "      <td>1.0</td>\n",
       "      <td>0.025642</td>\n",
       "      <td>-0.646978</td>\n",
       "      <td>0.0</td>\n",
       "      <td>-0.000108</td>\n",
       "      <td>0.000593</td>\n",
       "    </tr>\n",
       "    <tr>\n",
       "      <th>1</th>\n",
       "      <td>0</td>\n",
       "      <td>ADA</td>\n",
       "      <td>0.016067</td>\n",
       "      <td>0.936011</td>\n",
       "      <td>1.0</td>\n",
       "      <td>0.022820</td>\n",
       "      <td>0.626272</td>\n",
       "      <td>0.0</td>\n",
       "      <td>-0.000108</td>\n",
       "      <td>0.001239</td>\n",
       "    </tr>\n",
       "    <tr>\n",
       "      <th>2</th>\n",
       "      <td>0</td>\n",
       "      <td>AKT1</td>\n",
       "      <td>-0.014196</td>\n",
       "      <td>0.555413</td>\n",
       "      <td>1.0</td>\n",
       "      <td>0.023174</td>\n",
       "      <td>-0.553338</td>\n",
       "      <td>0.0</td>\n",
       "      <td>-0.000108</td>\n",
       "      <td>0.000690</td>\n",
       "    </tr>\n",
       "    <tr>\n",
       "      <th>3</th>\n",
       "      <td>0</td>\n",
       "      <td>ALK</td>\n",
       "      <td>-0.001825</td>\n",
       "      <td>0.699888</td>\n",
       "      <td>1.0</td>\n",
       "      <td>0.005062</td>\n",
       "      <td>-0.071121</td>\n",
       "      <td>0.0</td>\n",
       "      <td>-0.000108</td>\n",
       "      <td>0.000725</td>\n",
       "    </tr>\n",
       "    <tr>\n",
       "      <th>4</th>\n",
       "      <td>0</td>\n",
       "      <td>APC</td>\n",
       "      <td>-0.029941</td>\n",
       "      <td>0.432203</td>\n",
       "      <td>1.0</td>\n",
       "      <td>0.044673</td>\n",
       "      <td>-1.167065</td>\n",
       "      <td>0.0</td>\n",
       "      <td>-0.000108</td>\n",
       "      <td>0.000575</td>\n",
       "    </tr>\n",
       "  </tbody>\n",
       "</table>\n",
       "</div>"
      ],
      "text/plain": [
       "  geneA geneB   pi_mean  fdr_left  fdr_right        sd         z   pp  \\\n",
       "0     0  ABL1 -0.016598  0.520198        1.0  0.025642 -0.646978  0.0   \n",
       "1     0   ADA  0.016067  0.936011        1.0  0.022820  0.626272  0.0   \n",
       "2     0  AKT1 -0.014196  0.555413        1.0  0.023174 -0.553338  0.0   \n",
       "3     0   ALK -0.001825  0.699888        1.0  0.005062 -0.071121  0.0   \n",
       "4     0   APC -0.029941  0.432203        1.0  0.044673 -1.167065  0.0   \n",
       "\n",
       "         fA        fB  \n",
       "0 -0.000108  0.000593  \n",
       "1 -0.000108  0.001239  \n",
       "2 -0.000108  0.000690  \n",
       "3 -0.000108  0.000725  \n",
       "4 -0.000108  0.000575  "
      ]
     },
     "execution_count": 5,
     "metadata": {},
     "output_type": "execute_result"
    }
   ],
   "source": [
    "abundance_file = os.path.join(TEST_SET, \"TestSet8_abundance_thresholds.txt\")\n",
    "counts_file = os.path.join(TEST_SET, \"TestSet8_timepoint_counts.txt\")\n",
    "\n",
    "#abundance_file = \"/cellar/users/bpmunson/crappy/data/test_data/input_data/TestSet8/TestSet8_abundance_thresholds.txt\"\n",
    "#counts_file = \"/cellar/users/bpmunson/crappy/data/test_data/input_data/TestSet8/TestSet8_timepoint_counts.txt\"\n",
    "times = np.array([21,28])\n",
    "\n",
    "# initialize screen object\n",
    "screen = dual_crispr_screen.Screen(counts_file, times, abundance_file)\n",
    "\n",
    "# set some parameters\n",
    "# number of iterations to perform\n",
    "screen.options.niter = 2\n",
    "screen.options.testing = True\n",
    "screen.options.null_target_id = '0'\n",
    "screen.options.verbose = True\n",
    "\n",
    "# perform construct fitness calculation\n",
    "screen.run_construct_fitting()\n",
    "\n",
    "# run bootstraps\n",
    "screen.run_bootstrap()\n",
    "\n",
    "# summarize results \n",
    "screen.summarize()\n",
    "\n",
    "# view results \n",
    "screen.results.head()"
   ]
  },
  {
   "cell_type": "code",
   "execution_count": 6,
   "metadata": {},
   "outputs": [],
   "source": [
    "### Compare to CTG benchmark pi scores"
   ]
  },
  {
   "cell_type": "code",
   "execution_count": 7,
   "metadata": {},
   "outputs": [
    {
     "name": "stdout",
     "output_type": "stream",
     "text": [
      "All pi-scores close:\n"
     ]
    },
    {
     "data": {
      "text/plain": [
       "True"
      ]
     },
     "execution_count": 7,
     "metadata": {},
     "output_type": "execute_result"
    }
   ],
   "source": [
    "#benchmark = \"/cellar/users/bpmunson/crappy/data/test_data/output_data/Notebook8Test_pi.txt\"\n",
    "benchmark = os.path.join(BASE, 'data', 'test_data', 'output_data', 'Notebook8Test_pi.txt')\n",
    "\n",
    "benchmark = pd.read_csv(benchmark, sep=\"\\t\", header=0)\n",
    "benchmark_pi_mean = benchmark[['geneA','geneB','pi']]\n",
    "benchmark_pi_mean = benchmark_pi_mean.sort_values(['geneA','geneB']).reset_index(drop=True)\n",
    "\n",
    "#pi_scores_mean = screen.results.mean(axis=1).reset_index()\n",
    "pi_scores_mean = screen.results[['geneA','geneB','pi_mean']]\n",
    "\n",
    "comb = pd.merge(pi_scores_mean, benchmark_pi_mean, on=['geneA','geneB'])\n",
    "\n",
    "print('All pi-scores close:')\n",
    "np.allclose(comb['pi_mean'],comb['pi'], atol=1e-6, equal_nan=True)"
   ]
  },
  {
   "cell_type": "code",
   "execution_count": 8,
   "metadata": {},
   "outputs": [
    {
     "name": "stderr",
     "output_type": "stream",
     "text": [
      "/cellar/users/samsonfong/miniconda3/lib/python3.5/site-packages/rpy2/rinterface/__init__.py:145: RRuntimeWarning: Loading required package: ggplot2\n",
      "\n",
      "  warnings.warn(x, RRuntimeWarning)\n",
      "/cellar/users/samsonfong/miniconda3/lib/python3.5/site-packages/rpy2/rinterface/__init__.py:145: RRuntimeWarning: Loading required package: cowplot\n",
      "\n",
      "  warnings.warn(x, RRuntimeWarning)\n",
      "/cellar/users/samsonfong/miniconda3/lib/python3.5/site-packages/rpy2/rinterface/__init__.py:145: RRuntimeWarning: Error in axis_canvas(scatter, axis = \"x\") : \n",
      "  could not find function \"axis_canvas\"\n",
      "\n",
      "  warnings.warn(x, RRuntimeWarning)\n",
      "/cellar/users/samsonfong/miniconda3/lib/python3.5/site-packages/rpy2/rinterface/__init__.py:145: RRuntimeWarning: In addition: \n",
      "  warnings.warn(x, RRuntimeWarning)\n",
      "/cellar/users/samsonfong/miniconda3/lib/python3.5/site-packages/rpy2/rinterface/__init__.py:145: RRuntimeWarning: Warning message:\n",
      "\n",
      "  warnings.warn(x, RRuntimeWarning)\n",
      "/cellar/users/samsonfong/miniconda3/lib/python3.5/site-packages/rpy2/rinterface/__init__.py:145: RRuntimeWarning: In library(package, lib.loc = lib.loc, character.only = TRUE, logical.return = TRUE,  :\n",
      "  warnings.warn(x, RRuntimeWarning)\n",
      "/cellar/users/samsonfong/miniconda3/lib/python3.5/site-packages/rpy2/rinterface/__init__.py:145: RRuntimeWarning: \n",
      " \n",
      "  warnings.warn(x, RRuntimeWarning)\n",
      "/cellar/users/samsonfong/miniconda3/lib/python3.5/site-packages/rpy2/rinterface/__init__.py:145: RRuntimeWarning:  there is no package called ‘cowplot’\n",
      "\n",
      "  warnings.warn(x, RRuntimeWarning)\n"
     ]
    },
    {
     "name": "stdout",
     "output_type": "stream",
     "text": [
      "\n",
      "Error in axis_canvas(scatter, axis = \"x\") : \n",
      "  could not find function \"axis_canvas\"\n"
     ]
    }
   ],
   "source": [
    "%%R -i comb\n",
    "jointPlot <- function(df, alpha=0.1, title=NULL, correlation=FALSE){\n",
    "    \n",
    "    # make a joint plot from the data frame of two columns first one is on x axis\n",
    "    require(ggplot2)\n",
    "    require(cowplot)\n",
    "    # get info\n",
    "    x_l = colnames(df)[1]\n",
    "    y_l = colnames(df)[2]\n",
    "    coord_min = min(na.omit(df))\n",
    "    coord_max = max(na.omit(df))\n",
    "    # make scatter plot\n",
    "    scatter = ggplot(df, aes_string(x=x_l,y=y_l))+ # init grob\n",
    "        geom_point(shape=1, alpha=alpha, size=4)+ # add points\n",
    "        geom_abline(slope=1,intercept=0,color=\"red\",linetype=\"dotted\")+ # add perfect 1:1 line\n",
    "        theme_bw(base_size=18)+ # use preset theme\n",
    "        xlim(coord_min,coord_max)+ylim(coord_min,coord_max)+ # make square plot\n",
    "        labs(x=x_l,y=y_l) # add axis labels\n",
    "    # add correlation info to scatter plot\n",
    "    if (correlation){\n",
    "        # get correaltion\n",
    "        res = cor.test(df[,x_l], df[,y_l])\n",
    "        p_value = res$p.value\n",
    "        corr = res$estimate\n",
    "        # add annotation\n",
    "        scatter = scatter + annotate(\"text\",\n",
    "                                     hjust=0,\n",
    "                                     label=paste(\"Corr: \", format(round(corr, 4), nsmall=3),\n",
    "                                                 sep=\"\"),\n",
    "                                     x=coord_min,y=coord_max)\n",
    "        scatter = scatter + geom_smooth(se=FALSE, method=\"lm\")\n",
    "    }\n",
    "\n",
    "    # add title to scatter plot\n",
    "    if (!is.null(title)){\n",
    "        scatter = scatter + labs(title=title)\n",
    "    }\n",
    "\n",
    "    xdens = axis_canvas(scatter, axis=\"x\")+\n",
    "                geom_histogram(data=df, aes_string(x=x_l), color=\"black\",fill=\"white\",bins=50)\n",
    "\n",
    "    ydens = axis_canvas(scatter, axis=\"y\", coord_flip=TRUE)+\n",
    "                geom_histogram(data=df, aes_string(x=y_l), color=\"black\",fill=\"white\",bins=50)+\n",
    "                coord_flip()\n",
    "\n",
    "    p1 <- insert_xaxis_grob(scatter, xdens, grid::unit(.2,'null'),position=\"top\")\n",
    "    p2 <- insert_yaxis_grob(p1, ydens, grid::unit(.2,'null'),position=\"right\")\n",
    "    ggdraw(p2)\n",
    "    \n",
    "}\n",
    "df = comb[,c('pi_mean','pi')]\n",
    "colnames(df) = c('CrAPPY', 'CTG')\n",
    "jointPlot(df, title=\"Test Set 8 Pi Scores\", correlation=TRUE)\n"
   ]
  },
  {
   "cell_type": "markdown",
   "metadata": {},
   "source": [
    "# Testing abundance thresholds"
   ]
  },
  {
   "cell_type": "code",
   "execution_count": 52,
   "metadata": {},
   "outputs": [
    {
     "name": "stdout",
     "output_type": "stream",
     "text": [
      "reps                  1      2      1      2\n",
      "time                 21     21     28     28\n",
      "log2CountsThresh  2.525  3.025  3.025  3.025\n"
     ]
    },
    {
     "name": "stderr",
     "output_type": "stream",
     "text": [
      "/cellar/users/samsonfong/crappy/src/fit_ac_fc.py:258: RuntimeWarning: invalid value encountered in true_divide\n",
      "  fc = np.divide(f.sum(axis=0), var_time.sum(axis=0))\n",
      "/cellar/users/samsonfong/crappy/src/fit_ac_fc.py:284: RuntimeWarning: invalid value encountered in true_divide\n",
      "  sdfc = np.divide(num, denom).data\n"
     ]
    },
    {
     "name": "stdout",
     "output_type": "stream",
     "text": [
      "Iter\tRMS\tRelative Error\n",
      "1\t0.0218\t0.060584\n",
      "2\t0.0211\t0.030170\n",
      "3\t0.0207\t0.015706\n",
      "4\t0.0205\t0.008571\n",
      "5\t0.0205\t0.004901\n",
      "6\t0.0204\t0.002922\n",
      "7\t0.0204\t0.001805\n",
      "8\t0.0204\t0.001146\n",
      "9\t0.0204\t0.000743\n",
      "Performing iteration: 1\n",
      "Iter\tRMS\tRelative Error\n",
      "1\t0.0013\t0.094258\n",
      "2\t0.0009\t0.008727\n",
      "3\t0.0009\t0.000873\n",
      "Performing iteration: 2\n",
      "Iter\tRMS\tRelative Error\n",
      "1\t0.0013\t0.090555\n",
      "2\t0.0010\t0.007831\n",
      "3\t0.0009\t0.000808\n"
     ]
    },
    {
     "name": "stderr",
     "output_type": "stream",
     "text": [
      "/cellar/users/samsonfong/crappy/src/bootstrap_pi.py:274: RuntimeWarning: divide by zero encountered in true_divide\n",
      "  fdr_right = np.minimum(1, enull(-pi_mean)/(1-emean(pi_mean)))\n"
     ]
    },
    {
     "data": {
      "text/html": [
       "<div>\n",
       "<style scoped>\n",
       "    .dataframe tbody tr th:only-of-type {\n",
       "        vertical-align: middle;\n",
       "    }\n",
       "\n",
       "    .dataframe tbody tr th {\n",
       "        vertical-align: top;\n",
       "    }\n",
       "\n",
       "    .dataframe thead th {\n",
       "        text-align: right;\n",
       "    }\n",
       "</style>\n",
       "<table border=\"1\" class=\"dataframe\">\n",
       "  <thead>\n",
       "    <tr style=\"text-align: right;\">\n",
       "      <th></th>\n",
       "      <th>geneA</th>\n",
       "      <th>geneB</th>\n",
       "      <th>pi_mean</th>\n",
       "      <th>fdr_left</th>\n",
       "      <th>fdr_right</th>\n",
       "      <th>sd</th>\n",
       "      <th>z</th>\n",
       "      <th>pp</th>\n",
       "      <th>fA</th>\n",
       "      <th>fB</th>\n",
       "    </tr>\n",
       "  </thead>\n",
       "  <tbody>\n",
       "    <tr>\n",
       "      <th>0</th>\n",
       "      <td>0</td>\n",
       "      <td>ABL1</td>\n",
       "      <td>-0.036592</td>\n",
       "      <td>0.467033</td>\n",
       "      <td>1.0</td>\n",
       "      <td>0.004708</td>\n",
       "      <td>-1.288076</td>\n",
       "      <td>1.0</td>\n",
       "      <td>0.000033</td>\n",
       "      <td>0.000070</td>\n",
       "    </tr>\n",
       "    <tr>\n",
       "      <th>1</th>\n",
       "      <td>0</td>\n",
       "      <td>ADA</td>\n",
       "      <td>0.022472</td>\n",
       "      <td>0.934247</td>\n",
       "      <td>1.0</td>\n",
       "      <td>0.023869</td>\n",
       "      <td>0.791023</td>\n",
       "      <td>1.0</td>\n",
       "      <td>0.000033</td>\n",
       "      <td>0.000406</td>\n",
       "    </tr>\n",
       "    <tr>\n",
       "      <th>2</th>\n",
       "      <td>0</td>\n",
       "      <td>AKT1</td>\n",
       "      <td>-0.026209</td>\n",
       "      <td>0.544592</td>\n",
       "      <td>1.0</td>\n",
       "      <td>0.037523</td>\n",
       "      <td>-0.922576</td>\n",
       "      <td>0.0</td>\n",
       "      <td>0.000033</td>\n",
       "      <td>0.001010</td>\n",
       "    </tr>\n",
       "    <tr>\n",
       "      <th>3</th>\n",
       "      <td>0</td>\n",
       "      <td>ALK</td>\n",
       "      <td>-0.016357</td>\n",
       "      <td>0.633379</td>\n",
       "      <td>1.0</td>\n",
       "      <td>0.002171</td>\n",
       "      <td>-0.575790</td>\n",
       "      <td>1.0</td>\n",
       "      <td>0.000033</td>\n",
       "      <td>0.000057</td>\n",
       "    </tr>\n",
       "    <tr>\n",
       "      <th>4</th>\n",
       "      <td>0</td>\n",
       "      <td>APC</td>\n",
       "      <td>-0.022657</td>\n",
       "      <td>0.583333</td>\n",
       "      <td>1.0</td>\n",
       "      <td>0.073348</td>\n",
       "      <td>-0.797551</td>\n",
       "      <td>0.0</td>\n",
       "      <td>0.000033</td>\n",
       "      <td>-0.000176</td>\n",
       "    </tr>\n",
       "  </tbody>\n",
       "</table>\n",
       "</div>"
      ],
      "text/plain": [
       "  geneA geneB   pi_mean  fdr_left  fdr_right        sd         z   pp  \\\n",
       "0     0  ABL1 -0.036592  0.467033        1.0  0.004708 -1.288076  1.0   \n",
       "1     0   ADA  0.022472  0.934247        1.0  0.023869  0.791023  1.0   \n",
       "2     0  AKT1 -0.026209  0.544592        1.0  0.037523 -0.922576  0.0   \n",
       "3     0   ALK -0.016357  0.633379        1.0  0.002171 -0.575790  1.0   \n",
       "4     0   APC -0.022657  0.583333        1.0  0.073348 -0.797551  0.0   \n",
       "\n",
       "         fA        fB  \n",
       "0  0.000033  0.000070  \n",
       "1  0.000033  0.000406  \n",
       "2  0.000033  0.001010  \n",
       "3  0.000033  0.000057  \n",
       "4  0.000033 -0.000176  "
      ]
     },
     "execution_count": 52,
     "metadata": {},
     "output_type": "execute_result"
    }
   ],
   "source": [
    "abundance_file = os.path.join(TEST_SET, \"TestSet8_abundance_thresholds.txt\")\n",
    "counts_file = os.path.join(TEST_SET, \"TestSet8_timepoint_counts.txt\")\n",
    "\n",
    "times = np.array([21,28])\n",
    "\n",
    "# initialize screen object\n",
    "screen = dual_crispr_screen.Screen(counts_file, times, min_counts_threshold=5,verbose=True)\n",
    "\n",
    "# set some parameters\n",
    "# number of iterations to perform\n",
    "screen.options.niter = 2\n",
    "screen.options.testing = True\n",
    "screen.options.null_target_id = '0'\n",
    "screen.options.verbose = True\n",
    "\n",
    "# perform construct fitness calculation\n",
    "screen.run_construct_fitting()\n",
    "\n",
    "# run bootstraps\n",
    "screen.run_bootstrap()\n",
    "\n",
    "# summarize results \n",
    "screen.summarize()\n",
    "\n",
    "# view results \n",
    "screen.results.head()"
   ]
  },
  {
   "cell_type": "code",
   "execution_count": 53,
   "metadata": {},
   "outputs": [
    {
     "name": "stdout",
     "output_type": "stream",
     "text": [
      "All pi-scores close:\n"
     ]
    },
    {
     "data": {
      "text/plain": [
       "False"
      ]
     },
     "execution_count": 53,
     "metadata": {},
     "output_type": "execute_result"
    }
   ],
   "source": [
    "#benchmark = \"/cellar/users/bpmunson/crappy/data/test_data/output_data/Notebook8Test_pi.txt\"\n",
    "benchmark = os.path.join(BASE, 'data', 'test_data', 'output_data', 'Notebook8Test_pi.txt')\n",
    "\n",
    "benchmark = pd.read_csv(benchmark, sep=\"\\t\", header=0)\n",
    "benchmark_pi_mean = benchmark[['geneA','geneB','pi']]\n",
    "benchmark_pi_mean = benchmark_pi_mean.sort_values(['geneA','geneB']).reset_index(drop=True)\n",
    "\n",
    "#pi_scores_mean = screen.results.mean(axis=1).reset_index()\n",
    "pi_scores_mean = screen.results[['geneA','geneB','pi_mean']]\n",
    "\n",
    "comb = pd.merge(pi_scores_mean, benchmark_pi_mean, on=['geneA','geneB'])\n",
    "\n",
    "print('All pi-scores close:')\n",
    "np.allclose(comb['pi_mean'],comb['pi'], atol=1e-6, equal_nan=True)"
   ]
  },
  {
   "cell_type": "code",
   "execution_count": 54,
   "metadata": {},
   "outputs": [],
   "source": [
    "def rmse(x,y): \n",
    "    return np.power(np.sum(np.power(x - y,2))/len(x), 0.5)"
   ]
  },
  {
   "cell_type": "code",
   "execution_count": 55,
   "metadata": {},
   "outputs": [
    {
     "data": {
      "text/plain": [
       "0.017145380041557273"
      ]
     },
     "execution_count": 55,
     "metadata": {},
     "output_type": "execute_result"
    }
   ],
   "source": [
    "rmse(comb['pi_mean'], comb['pi'])"
   ]
  },
  {
   "cell_type": "code",
   "execution_count": 56,
   "metadata": {
    "scrolled": true
   },
   "outputs": [
    {
     "data": {
      "text/plain": [
       "array([[ 1.       ,  0.8038853],\n",
       "       [ 0.8038853,  1.       ]])"
      ]
     },
     "execution_count": 56,
     "metadata": {},
     "output_type": "execute_result"
    }
   ],
   "source": [
    "np.corrcoef(comb[['pi_mean', 'pi']].T)"
   ]
  },
  {
   "cell_type": "code",
   "execution_count": 57,
   "metadata": {},
   "outputs": [],
   "source": [
    "import matplotlib.pyplot as plt\n",
    "%matplotlib inline"
   ]
  },
  {
   "cell_type": "code",
   "execution_count": 61,
   "metadata": {},
   "outputs": [
    {
     "data": {
      "text/plain": [
       "<matplotlib.collections.PathCollection at 0x7fe925bd8ba8>"
      ]
     },
     "execution_count": 61,
     "metadata": {},
     "output_type": "execute_result"
    },
    {
     "data": {
      "image/png": "[encoded data removed]",
      "text/plain": [
       "<matplotlib.figure.Figure at 0x7fe925ae1550>"
      ]
     },
     "metadata": {},
     "output_type": "display_data"
    }
   ],
   "source": [
    "plt.scatter(comb['pi_mean'], comb['pi'], s=5)"
   ]
  },
  {
   "cell_type": "markdown",
   "metadata": {},
   "source": [
    "# A549"
   ]
  },
  {
   "cell_type": "code",
   "execution_count": null,
   "metadata": {},
   "outputs": [],
   "source": [
    "abundance_file = \"/cellar/users/bpmunson/crappy/data/test_data/input_data/A549/A549_abundance_thresholds.txt\"\n",
    "counts_file = \"/cellar/users/bpmunson/crappy/data/test_data/input_data/A549/A549_timepoint_counts.txt\"\n",
    "times = np.array([3,14,21,28])\n",
    "\n",
    "# initialize screen object\n",
    "screen = dual_crispr_screen.Screen(counts_file, times)\n",
    "\n",
    "# set some parameters\n",
    "# number of iterations to perform\n",
    "screen.options.niter = 2\n",
    "screen.options.null_target_id = '0'\n",
    "screen.options.verbose = True\n",
    "\n",
    "# perform construct fitness calculation\n",
    "screen.run_construct_fitting()\n",
    "\n",
    "# run bootstraps\n",
    "screen.run_bootstrap()\n",
    "\n",
    "# summarize results \n",
    "screen.summarize()\n",
    "\n",
    "# view results \n",
    "screen.results.head()"
   ]
  },
  {
   "cell_type": "code",
   "execution_count": null,
   "metadata": {},
   "outputs": [],
   "source": [
    "abundance_file = \"/cellar/users/bpmunson/crappy/data/test_data/input_data/A549/A549_abundance_thresholds.txt\"\n",
    "counts_file = \"/cellar/users/bpmunson/crappy/data/test_data/input_data/A549/A549_timepoint_counts.txt\"\n",
    "times = np.array([3,14,21,28])\n",
    "\n",
    "# initialize screen object\n",
    "screen = dual_crispr_screen.Screen(counts_file, times, abundance_file)\n",
    "\n",
    "# set some parameters\n",
    "# number of iterations to perform\n",
    "screen.options.niter = 2\n",
    "screen.options.null_target_id = '0'\n",
    "screen.options.verbose = True\n",
    "\n",
    "# perform construct fitness calculation\n",
    "screen.run_construct_fitting()\n",
    "\n",
    "# run bootstraps\n",
    "screen.run_bootstrap()\n",
    "\n",
    "# summarize results \n",
    "screen.summarize()\n",
    "\n",
    "# view results \n",
    "screen.results.head()"
   ]
  },
  {
   "cell_type": "code",
   "execution_count": null,
   "metadata": {},
   "outputs": [],
   "source": [
    "sampleName                     \n",
    "testing_T3_1              3.025\n",
    "testing_T3_2              3.525\n",
    "testing_T14_1             5.525\n",
    "testing_T14_2             3.025\n",
    "testing_T21_1             4.525\n",
    "testing_T21_2             3.025\n",
    "testing_T28_1             3.025\n",
    "testing_T28_2             3.525\n",
    "\n",
    "\n",
    "\n",
    "sampleName                     \n",
    "testing_T3_1           3.335947\n",
    "testing_T3_2           3.475000\n",
    "testing_T14_1          3.338280\n",
    "testing_T14_2          4.089135\n",
    "testing_T21_1          4.525000\n",
    "testing_T21_2          4.325000\n",
    "testing_T28_1          4.225000\n",
    "testing_T28_2          3.575000"
   ]
  },
  {
   "cell_type": "code",
   "execution_count": null,
   "metadata": {},
   "outputs": [],
   "source": [
    "2**3.025"
   ]
  },
  {
   "cell_type": "code",
   "execution_count": null,
   "metadata": {},
   "outputs": [],
   "source": []
  }
 ],
 "metadata": {
  "kernelspec": {
   "display_name": "Python 3",
   "language": "python",
   "name": "python3"
  },
  "language_info": {
   "codemirror_mode": {
    "name": "ipython",
    "version": 3
   },
   "file_extension": ".py",
   "mimetype": "text/x-python",
   "name": "python",
   "nbconvert_exporter": "python",
   "pygments_lexer": "ipython3",
   "version": "3.5.4"
  }
 },
 "nbformat": 4,
 "nbformat_minor": 2
}
